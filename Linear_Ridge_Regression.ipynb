{
 "cells": [
  {
   "cell_type": "markdown",
   "metadata": {},
   "source": [
    "## PART III - LINEAR REGRESSION - INSURANCE DATA \n",
    "\n",
    "### This dataset has 6 features and  target column is the charges which we are going to predict using linear regression."
   ]
  },
  {
   "cell_type": "markdown",
   "metadata": {},
   "source": [
    "\"I (We) certify that the code and data in this assignment were generated independently,\n",
    "using only the tools and resources defined in the course and that I (we) did not receive\n",
    "any external help, coaching or contributions during the production of this work.\"\n"
   ]
  },
  {
   "cell_type": "code",
   "execution_count": 1,
   "metadata": {},
   "outputs": [],
   "source": [
    "# Step - 1 - Importing the libraries\n",
    "import numpy as np\n",
    "import matplotlib.pyplot as plt\n",
    "import pandas as pd\n",
    "import seaborn as sns"
   ]
  },
  {
   "cell_type": "code",
   "execution_count": 2,
   "metadata": {},
   "outputs": [],
   "source": [
    "#Step 2 - data reading and preprocessing\n",
    "insurance_df = pd.read_csv('insurance.csv')"
   ]
  },
  {
   "cell_type": "code",
   "execution_count": 3,
   "metadata": {},
   "outputs": [
    {
     "data": {
      "text/html": [
       "<div>\n",
       "<style scoped>\n",
       "    .dataframe tbody tr th:only-of-type {\n",
       "        vertical-align: middle;\n",
       "    }\n",
       "\n",
       "    .dataframe tbody tr th {\n",
       "        vertical-align: top;\n",
       "    }\n",
       "\n",
       "    .dataframe thead th {\n",
       "        text-align: right;\n",
       "    }\n",
       "</style>\n",
       "<table border=\"1\" class=\"dataframe\">\n",
       "  <thead>\n",
       "    <tr style=\"text-align: right;\">\n",
       "      <th></th>\n",
       "      <th>age</th>\n",
       "      <th>sex</th>\n",
       "      <th>bmi</th>\n",
       "      <th>children</th>\n",
       "      <th>smoker</th>\n",
       "      <th>region</th>\n",
       "      <th>charges</th>\n",
       "    </tr>\n",
       "  </thead>\n",
       "  <tbody>\n",
       "    <tr>\n",
       "      <th>0</th>\n",
       "      <td>19</td>\n",
       "      <td>female</td>\n",
       "      <td>27.900</td>\n",
       "      <td>0</td>\n",
       "      <td>yes</td>\n",
       "      <td>southwest</td>\n",
       "      <td>16884.92400</td>\n",
       "    </tr>\n",
       "    <tr>\n",
       "      <th>1</th>\n",
       "      <td>18</td>\n",
       "      <td>male</td>\n",
       "      <td>33.770</td>\n",
       "      <td>1</td>\n",
       "      <td>no</td>\n",
       "      <td>southeast</td>\n",
       "      <td>1725.55230</td>\n",
       "    </tr>\n",
       "    <tr>\n",
       "      <th>2</th>\n",
       "      <td>28</td>\n",
       "      <td>male</td>\n",
       "      <td>33.000</td>\n",
       "      <td>3</td>\n",
       "      <td>no</td>\n",
       "      <td>southeast</td>\n",
       "      <td>4449.46200</td>\n",
       "    </tr>\n",
       "    <tr>\n",
       "      <th>3</th>\n",
       "      <td>33</td>\n",
       "      <td>male</td>\n",
       "      <td>22.705</td>\n",
       "      <td>0</td>\n",
       "      <td>no</td>\n",
       "      <td>northwest</td>\n",
       "      <td>21984.47061</td>\n",
       "    </tr>\n",
       "    <tr>\n",
       "      <th>4</th>\n",
       "      <td>32</td>\n",
       "      <td>male</td>\n",
       "      <td>28.880</td>\n",
       "      <td>0</td>\n",
       "      <td>no</td>\n",
       "      <td>northwest</td>\n",
       "      <td>3866.85520</td>\n",
       "    </tr>\n",
       "  </tbody>\n",
       "</table>\n",
       "</div>"
      ],
      "text/plain": [
       "   age     sex     bmi  children smoker     region      charges\n",
       "0   19  female  27.900         0    yes  southwest  16884.92400\n",
       "1   18    male  33.770         1     no  southeast   1725.55230\n",
       "2   28    male  33.000         3     no  southeast   4449.46200\n",
       "3   33    male  22.705         0     no  northwest  21984.47061\n",
       "4   32    male  28.880         0     no  northwest   3866.85520"
      ]
     },
     "execution_count": 3,
     "metadata": {},
     "output_type": "execute_result"
    }
   ],
   "source": [
    "# Print the first 5 rows of the dataframe\n",
    "insurance_df.head()"
   ]
  },
  {
   "cell_type": "code",
   "execution_count": 4,
   "metadata": {},
   "outputs": [
    {
     "data": {
      "text/html": [
       "<div>\n",
       "<style scoped>\n",
       "    .dataframe tbody tr th:only-of-type {\n",
       "        vertical-align: middle;\n",
       "    }\n",
       "\n",
       "    .dataframe tbody tr th {\n",
       "        vertical-align: top;\n",
       "    }\n",
       "\n",
       "    .dataframe thead th {\n",
       "        text-align: right;\n",
       "    }\n",
       "</style>\n",
       "<table border=\"1\" class=\"dataframe\">\n",
       "  <thead>\n",
       "    <tr style=\"text-align: right;\">\n",
       "      <th></th>\n",
       "      <th>age</th>\n",
       "      <th>bmi</th>\n",
       "      <th>children</th>\n",
       "      <th>charges</th>\n",
       "    </tr>\n",
       "  </thead>\n",
       "  <tbody>\n",
       "    <tr>\n",
       "      <th>count</th>\n",
       "      <td>1338.000000</td>\n",
       "      <td>1338.000000</td>\n",
       "      <td>1338.000000</td>\n",
       "      <td>1338.000000</td>\n",
       "    </tr>\n",
       "    <tr>\n",
       "      <th>mean</th>\n",
       "      <td>39.207025</td>\n",
       "      <td>30.663397</td>\n",
       "      <td>1.094918</td>\n",
       "      <td>13270.422265</td>\n",
       "    </tr>\n",
       "    <tr>\n",
       "      <th>std</th>\n",
       "      <td>14.049960</td>\n",
       "      <td>6.098187</td>\n",
       "      <td>1.205493</td>\n",
       "      <td>12110.011237</td>\n",
       "    </tr>\n",
       "    <tr>\n",
       "      <th>min</th>\n",
       "      <td>18.000000</td>\n",
       "      <td>15.960000</td>\n",
       "      <td>0.000000</td>\n",
       "      <td>1121.873900</td>\n",
       "    </tr>\n",
       "    <tr>\n",
       "      <th>25%</th>\n",
       "      <td>27.000000</td>\n",
       "      <td>26.296250</td>\n",
       "      <td>0.000000</td>\n",
       "      <td>4740.287150</td>\n",
       "    </tr>\n",
       "    <tr>\n",
       "      <th>50%</th>\n",
       "      <td>39.000000</td>\n",
       "      <td>30.400000</td>\n",
       "      <td>1.000000</td>\n",
       "      <td>9382.033000</td>\n",
       "    </tr>\n",
       "    <tr>\n",
       "      <th>75%</th>\n",
       "      <td>51.000000</td>\n",
       "      <td>34.693750</td>\n",
       "      <td>2.000000</td>\n",
       "      <td>16639.912515</td>\n",
       "    </tr>\n",
       "    <tr>\n",
       "      <th>max</th>\n",
       "      <td>64.000000</td>\n",
       "      <td>53.130000</td>\n",
       "      <td>5.000000</td>\n",
       "      <td>63770.428010</td>\n",
       "    </tr>\n",
       "  </tbody>\n",
       "</table>\n",
       "</div>"
      ],
      "text/plain": [
       "               age          bmi     children       charges\n",
       "count  1338.000000  1338.000000  1338.000000   1338.000000\n",
       "mean     39.207025    30.663397     1.094918  13270.422265\n",
       "std      14.049960     6.098187     1.205493  12110.011237\n",
       "min      18.000000    15.960000     0.000000   1121.873900\n",
       "25%      27.000000    26.296250     0.000000   4740.287150\n",
       "50%      39.000000    30.400000     1.000000   9382.033000\n",
       "75%      51.000000    34.693750     2.000000  16639.912515\n",
       "max      64.000000    53.130000     5.000000  63770.428010"
      ]
     },
     "execution_count": 4,
     "metadata": {},
     "output_type": "execute_result"
    }
   ],
   "source": [
    "# Print statistical summary of the data\n",
    "insurance_df.describe()"
   ]
  },
  {
   "cell_type": "code",
   "execution_count": 5,
   "metadata": {},
   "outputs": [
    {
     "data": {
      "text/plain": [
       "Index(['age', 'sex', 'bmi', 'children', 'smoker', 'region', 'charges'], dtype='object')"
      ]
     },
     "execution_count": 5,
     "metadata": {},
     "output_type": "execute_result"
    }
   ],
   "source": [
    "# print column names\n",
    "insurance_df.columns"
   ]
  },
  {
   "cell_type": "code",
   "execution_count": 6,
   "metadata": {},
   "outputs": [
    {
     "data": {
      "text/plain": [
       "age           int64\n",
       "sex          object\n",
       "bmi         float64\n",
       "children      int64\n",
       "smoker       object\n",
       "region       object\n",
       "charges     float64\n",
       "dtype: object"
      ]
     },
     "execution_count": 6,
     "metadata": {},
     "output_type": "execute_result"
    }
   ],
   "source": [
    "# Print data types of each column\n",
    "insurance_df.dtypes"
   ]
  },
  {
   "cell_type": "code",
   "execution_count": 7,
   "metadata": {},
   "outputs": [
    {
     "data": {
      "text/plain": [
       "(1338, 7)"
      ]
     },
     "execution_count": 7,
     "metadata": {},
     "output_type": "execute_result"
    }
   ],
   "source": [
    "# Print shape of the dataframe\n",
    "insurance_df.shape"
   ]
  },
  {
   "cell_type": "code",
   "execution_count": 8,
   "metadata": {},
   "outputs": [
    {
     "name": "stdout",
     "output_type": "stream",
     "text": [
      "age         0\n",
      "sex         0\n",
      "bmi         0\n",
      "children    0\n",
      "smoker      0\n",
      "region      0\n",
      "charges     0\n",
      "dtype: int64\n"
     ]
    }
   ],
   "source": [
    "# Print the number of missing values in each column  \n",
    "print(insurance_df.isna().sum())\n",
    "# No missing values in the dataset \n"
   ]
  },
  {
   "cell_type": "code",
   "execution_count": 9,
   "metadata": {},
   "outputs": [],
   "source": [
    "# Step -3 - Convert columns with data type string to categorical\n",
    "insurance_df['sex'] = insurance_df['sex'].map({'male':1, 'female':0})\n",
    "insurance_df['smoker'] = insurance_df['smoker'].map({'yes':1, 'no':0})\n",
    "insurance_df['region'] = insurance_df['region'].map({'southeast':0, 'southwest':1,'northeast':2, 'northwest':3})"
   ]
  },
  {
   "cell_type": "code",
   "execution_count": 10,
   "metadata": {},
   "outputs": [
    {
     "data": {
      "text/html": [
       "<div>\n",
       "<style scoped>\n",
       "    .dataframe tbody tr th:only-of-type {\n",
       "        vertical-align: middle;\n",
       "    }\n",
       "\n",
       "    .dataframe tbody tr th {\n",
       "        vertical-align: top;\n",
       "    }\n",
       "\n",
       "    .dataframe thead th {\n",
       "        text-align: right;\n",
       "    }\n",
       "</style>\n",
       "<table border=\"1\" class=\"dataframe\">\n",
       "  <thead>\n",
       "    <tr style=\"text-align: right;\">\n",
       "      <th></th>\n",
       "      <th>age</th>\n",
       "      <th>sex</th>\n",
       "      <th>bmi</th>\n",
       "      <th>children</th>\n",
       "      <th>smoker</th>\n",
       "      <th>region</th>\n",
       "      <th>charges</th>\n",
       "    </tr>\n",
       "  </thead>\n",
       "  <tbody>\n",
       "    <tr>\n",
       "      <th>0</th>\n",
       "      <td>19</td>\n",
       "      <td>0</td>\n",
       "      <td>27.900</td>\n",
       "      <td>0</td>\n",
       "      <td>1</td>\n",
       "      <td>1</td>\n",
       "      <td>16884.92400</td>\n",
       "    </tr>\n",
       "    <tr>\n",
       "      <th>1</th>\n",
       "      <td>18</td>\n",
       "      <td>1</td>\n",
       "      <td>33.770</td>\n",
       "      <td>1</td>\n",
       "      <td>0</td>\n",
       "      <td>0</td>\n",
       "      <td>1725.55230</td>\n",
       "    </tr>\n",
       "    <tr>\n",
       "      <th>2</th>\n",
       "      <td>28</td>\n",
       "      <td>1</td>\n",
       "      <td>33.000</td>\n",
       "      <td>3</td>\n",
       "      <td>0</td>\n",
       "      <td>0</td>\n",
       "      <td>4449.46200</td>\n",
       "    </tr>\n",
       "    <tr>\n",
       "      <th>3</th>\n",
       "      <td>33</td>\n",
       "      <td>1</td>\n",
       "      <td>22.705</td>\n",
       "      <td>0</td>\n",
       "      <td>0</td>\n",
       "      <td>3</td>\n",
       "      <td>21984.47061</td>\n",
       "    </tr>\n",
       "    <tr>\n",
       "      <th>4</th>\n",
       "      <td>32</td>\n",
       "      <td>1</td>\n",
       "      <td>28.880</td>\n",
       "      <td>0</td>\n",
       "      <td>0</td>\n",
       "      <td>3</td>\n",
       "      <td>3866.85520</td>\n",
       "    </tr>\n",
       "    <tr>\n",
       "      <th>...</th>\n",
       "      <td>...</td>\n",
       "      <td>...</td>\n",
       "      <td>...</td>\n",
       "      <td>...</td>\n",
       "      <td>...</td>\n",
       "      <td>...</td>\n",
       "      <td>...</td>\n",
       "    </tr>\n",
       "    <tr>\n",
       "      <th>1333</th>\n",
       "      <td>50</td>\n",
       "      <td>1</td>\n",
       "      <td>30.970</td>\n",
       "      <td>3</td>\n",
       "      <td>0</td>\n",
       "      <td>3</td>\n",
       "      <td>10600.54830</td>\n",
       "    </tr>\n",
       "    <tr>\n",
       "      <th>1334</th>\n",
       "      <td>18</td>\n",
       "      <td>0</td>\n",
       "      <td>31.920</td>\n",
       "      <td>0</td>\n",
       "      <td>0</td>\n",
       "      <td>2</td>\n",
       "      <td>2205.98080</td>\n",
       "    </tr>\n",
       "    <tr>\n",
       "      <th>1335</th>\n",
       "      <td>18</td>\n",
       "      <td>0</td>\n",
       "      <td>36.850</td>\n",
       "      <td>0</td>\n",
       "      <td>0</td>\n",
       "      <td>0</td>\n",
       "      <td>1629.83350</td>\n",
       "    </tr>\n",
       "    <tr>\n",
       "      <th>1336</th>\n",
       "      <td>21</td>\n",
       "      <td>0</td>\n",
       "      <td>25.800</td>\n",
       "      <td>0</td>\n",
       "      <td>0</td>\n",
       "      <td>1</td>\n",
       "      <td>2007.94500</td>\n",
       "    </tr>\n",
       "    <tr>\n",
       "      <th>1337</th>\n",
       "      <td>61</td>\n",
       "      <td>0</td>\n",
       "      <td>29.070</td>\n",
       "      <td>0</td>\n",
       "      <td>1</td>\n",
       "      <td>3</td>\n",
       "      <td>29141.36030</td>\n",
       "    </tr>\n",
       "  </tbody>\n",
       "</table>\n",
       "<p>1338 rows × 7 columns</p>\n",
       "</div>"
      ],
      "text/plain": [
       "      age  sex     bmi  children  smoker  region      charges\n",
       "0      19    0  27.900         0       1       1  16884.92400\n",
       "1      18    1  33.770         1       0       0   1725.55230\n",
       "2      28    1  33.000         3       0       0   4449.46200\n",
       "3      33    1  22.705         0       0       3  21984.47061\n",
       "4      32    1  28.880         0       0       3   3866.85520\n",
       "...   ...  ...     ...       ...     ...     ...          ...\n",
       "1333   50    1  30.970         3       0       3  10600.54830\n",
       "1334   18    0  31.920         0       0       2   2205.98080\n",
       "1335   18    0  36.850         0       0       0   1629.83350\n",
       "1336   21    0  25.800         0       0       1   2007.94500\n",
       "1337   61    0  29.070         0       1       3  29141.36030\n",
       "\n",
       "[1338 rows x 7 columns]"
      ]
     },
     "execution_count": 10,
     "metadata": {},
     "output_type": "execute_result"
    }
   ],
   "source": [
    "# Print after converting string data type to categorical\n",
    "insurance_df\n"
   ]
  },
  {
   "cell_type": "code",
   "execution_count": 11,
   "metadata": {},
   "outputs": [
    {
     "data": {
      "text/html": [
       "<div>\n",
       "<style scoped>\n",
       "    .dataframe tbody tr th:only-of-type {\n",
       "        vertical-align: middle;\n",
       "    }\n",
       "\n",
       "    .dataframe tbody tr th {\n",
       "        vertical-align: top;\n",
       "    }\n",
       "\n",
       "    .dataframe thead th {\n",
       "        text-align: right;\n",
       "    }\n",
       "</style>\n",
       "<table border=\"1\" class=\"dataframe\">\n",
       "  <thead>\n",
       "    <tr style=\"text-align: right;\">\n",
       "      <th></th>\n",
       "      <th>age</th>\n",
       "      <th>sex</th>\n",
       "      <th>bmi</th>\n",
       "      <th>children</th>\n",
       "      <th>smoker</th>\n",
       "      <th>region</th>\n",
       "      <th>charges</th>\n",
       "    </tr>\n",
       "  </thead>\n",
       "  <tbody>\n",
       "    <tr>\n",
       "      <th>count</th>\n",
       "      <td>1338.000000</td>\n",
       "      <td>1338.000000</td>\n",
       "      <td>1338.000000</td>\n",
       "      <td>1338.000000</td>\n",
       "      <td>1338.000000</td>\n",
       "      <td>1338.000000</td>\n",
       "      <td>1338.000000</td>\n",
       "    </tr>\n",
       "    <tr>\n",
       "      <th>mean</th>\n",
       "      <td>39.207025</td>\n",
       "      <td>0.505232</td>\n",
       "      <td>30.663397</td>\n",
       "      <td>1.094918</td>\n",
       "      <td>0.204783</td>\n",
       "      <td>1.455904</td>\n",
       "      <td>13270.422265</td>\n",
       "    </tr>\n",
       "    <tr>\n",
       "      <th>std</th>\n",
       "      <td>14.049960</td>\n",
       "      <td>0.500160</td>\n",
       "      <td>6.098187</td>\n",
       "      <td>1.205493</td>\n",
       "      <td>0.403694</td>\n",
       "      <td>1.130888</td>\n",
       "      <td>12110.011237</td>\n",
       "    </tr>\n",
       "    <tr>\n",
       "      <th>min</th>\n",
       "      <td>18.000000</td>\n",
       "      <td>0.000000</td>\n",
       "      <td>15.960000</td>\n",
       "      <td>0.000000</td>\n",
       "      <td>0.000000</td>\n",
       "      <td>0.000000</td>\n",
       "      <td>1121.873900</td>\n",
       "    </tr>\n",
       "    <tr>\n",
       "      <th>25%</th>\n",
       "      <td>27.000000</td>\n",
       "      <td>0.000000</td>\n",
       "      <td>26.296250</td>\n",
       "      <td>0.000000</td>\n",
       "      <td>0.000000</td>\n",
       "      <td>0.000000</td>\n",
       "      <td>4740.287150</td>\n",
       "    </tr>\n",
       "    <tr>\n",
       "      <th>50%</th>\n",
       "      <td>39.000000</td>\n",
       "      <td>1.000000</td>\n",
       "      <td>30.400000</td>\n",
       "      <td>1.000000</td>\n",
       "      <td>0.000000</td>\n",
       "      <td>1.000000</td>\n",
       "      <td>9382.033000</td>\n",
       "    </tr>\n",
       "    <tr>\n",
       "      <th>75%</th>\n",
       "      <td>51.000000</td>\n",
       "      <td>1.000000</td>\n",
       "      <td>34.693750</td>\n",
       "      <td>2.000000</td>\n",
       "      <td>0.000000</td>\n",
       "      <td>2.000000</td>\n",
       "      <td>16639.912515</td>\n",
       "    </tr>\n",
       "    <tr>\n",
       "      <th>max</th>\n",
       "      <td>64.000000</td>\n",
       "      <td>1.000000</td>\n",
       "      <td>53.130000</td>\n",
       "      <td>5.000000</td>\n",
       "      <td>1.000000</td>\n",
       "      <td>3.000000</td>\n",
       "      <td>63770.428010</td>\n",
       "    </tr>\n",
       "  </tbody>\n",
       "</table>\n",
       "</div>"
      ],
      "text/plain": [
       "               age          sex          bmi     children       smoker  \\\n",
       "count  1338.000000  1338.000000  1338.000000  1338.000000  1338.000000   \n",
       "mean     39.207025     0.505232    30.663397     1.094918     0.204783   \n",
       "std      14.049960     0.500160     6.098187     1.205493     0.403694   \n",
       "min      18.000000     0.000000    15.960000     0.000000     0.000000   \n",
       "25%      27.000000     0.000000    26.296250     0.000000     0.000000   \n",
       "50%      39.000000     1.000000    30.400000     1.000000     0.000000   \n",
       "75%      51.000000     1.000000    34.693750     2.000000     0.000000   \n",
       "max      64.000000     1.000000    53.130000     5.000000     1.000000   \n",
       "\n",
       "            region       charges  \n",
       "count  1338.000000   1338.000000  \n",
       "mean      1.455904  13270.422265  \n",
       "std       1.130888  12110.011237  \n",
       "min       0.000000   1121.873900  \n",
       "25%       0.000000   4740.287150  \n",
       "50%       1.000000   9382.033000  \n",
       "75%       2.000000  16639.912515  \n",
       "max       3.000000  63770.428010  "
      ]
     },
     "execution_count": 11,
     "metadata": {},
     "output_type": "execute_result"
    }
   ],
   "source": [
    "# describe the data\n",
    "insurance_df.describe()"
   ]
  },
  {
   "cell_type": "code",
   "execution_count": 12,
   "metadata": {},
   "outputs": [
    {
     "data": {
      "image/png": "[encoded data removed]",
      "text/plain": [
       "<Figure size 432x432 with 2 Axes>"
      ]
     },
     "metadata": {
      "needs_background": "light"
     },
     "output_type": "display_data"
    }
   ],
   "source": [
    "plt.figure(figsize=(6,6))\n",
    "plt.title('Correlation Map')\n",
    "ax=sns.heatmap(insurance_df.corr(),linewidth=3.0,annot=True,square=True)\n",
    "##From the below plot we can see charges are highly correlated to feature smoker "
   ]
  },
  {
   "cell_type": "code",
   "execution_count": 13,
   "metadata": {},
   "outputs": [
    {
     "data": {
      "image/png": "[encoded data removed]",
      "text/plain": [
       "<Figure size 360x360 with 1 Axes>"
      ]
     },
     "metadata": {
      "needs_background": "light"
     },
     "output_type": "display_data"
    }
   ],
   "source": [
    "sns.catplot(x=\"smoker\",y=\"charges\",kind=\"point\",data=insurance_df);\n",
    "##it is seen that being a smoker increases the insurance charges drastically"
   ]
  },
  {
   "cell_type": "code",
   "execution_count": 14,
   "metadata": {},
   "outputs": [],
   "source": [
    "# Step - 5 - choosing charges as the target\n",
    "##the target variable charges is defined as y \n",
    "## All the independent variables are stored in the vector X\n",
    "y = insurance_df['charges']\n",
    "X = insurance_df.drop(columns=['charges'])"
   ]
  },
  {
   "cell_type": "code",
   "execution_count": 15,
   "metadata": {},
   "outputs": [],
   "source": [
    "# Step -6- choose 80% training and 20% testing\n",
    "\n",
    "X_train = insurance_df.sample(frac=0.8, random_state=200)\n",
    "X_test = insurance_df.drop(X_train.index)\n",
    "\n",
    "y_train = X_train['charges']\n",
    "y_test = X_test['charges']\n",
    "\n",
    "X_train.drop(columns=['charges'], inplace=True)\n",
    "X_test.drop(columns=['charges'], inplace=True)\n"
   ]
  },
  {
   "cell_type": "code",
   "execution_count": 16,
   "metadata": {},
   "outputs": [
    {
     "name": "stdout",
     "output_type": "stream",
     "text": [
      "X_train shape:  (1070, 6)\n",
      "X_test shape:  (268, 6)\n",
      "y_train shape:  (1070,)\n",
      "y_test shape:  (268,)\n"
     ]
    }
   ],
   "source": [
    "# Step - 7- Print the shape of the training and testing sets\n",
    "print(\"X_train shape: \" ,X_train.shape)\n",
    "print(\"X_test shape: \" ,X_test.shape)\n",
    "print(\"y_train shape: \" ,y_train.shape)\n",
    "print(\"y_test shape: \" ,y_test.shape)"
   ]
  },
  {
   "cell_type": "code",
   "execution_count": 17,
   "metadata": {},
   "outputs": [],
   "source": [
    "def linear_regression(x,y):\n",
    "    intercept_ones = np.ones((len(x),1)) # results in array with ones\n",
    "\n",
    "    x_b = np.c_[intercept_ones,x] # we now add the additional ones as a new column to our X\n",
    "\n",
    "    w = np.linalg.inv(x_b.T.dot(x_b)).dot(x_b.T).dot(y) \n",
    "    # the normal equation 𝒘 = (𝑿𝑇𝑿)−1𝑿𝑇y\n",
    "\n",
    "    return w"
   ]
  },
  {
   "cell_type": "code",
   "execution_count": 18,
   "metadata": {},
   "outputs": [
    {
     "name": "stdout",
     "output_type": "stream",
     "text": [
      "The weights vector is :\n",
      " [-13220.55779694    257.44633325    -53.45122519    341.59810354\n",
      "    423.2506221   23914.85446346    432.68508141]\n"
     ]
    }
   ],
   "source": [
    "weights=linear_regression(X_train,y_train)\n",
    "print(f'The weights vector is :\\n', weights)\n",
    "## Bais=-13220.55779694\n",
    "## w1 to w6= [257.44633325    -53.45122519    341.59810354   423.2506221   23914.85446346    432.68508141]\n"
   ]
  },
  {
   "cell_type": "markdown",
   "metadata": {},
   "source": [
    "#### Weight associated for age ,sex, bmi , children and region is lesser compared to  the weight associated with feature smoker ,since smoker is highly correlated to charges compared to other features as seen above"
   ]
  },
  {
   "cell_type": "code",
   "execution_count": 19,
   "metadata": {},
   "outputs": [],
   "source": [
    "def predict(X, w):\n",
    "    intercept_ones = np.ones((len(X),1))\n",
    "    x_b = np.c_[intercept_ones,X]\n",
    "    y_pred = np.matmul(x_b, w) \n",
    "    return y_pred\n"
   ]
  },
  {
   "cell_type": "code",
   "execution_count": 20,
   "metadata": {},
   "outputs": [],
   "source": [
    "# Predict the y values for the test set\n",
    "y_pred = predict(X_test, weights)\n",
    "##y_pred"
   ]
  },
  {
   "cell_type": "code",
   "execution_count": 21,
   "metadata": {},
   "outputs": [],
   "source": [
    "##Verifying the weights \n",
    "# from sklearn.linear_model import LinearRegression\n",
    "# linreg = LinearRegression()\n",
    "# linreg.fit(X_train,y_train)\n",
    "# print(linreg.coef_,linreg.intercept_)\n",
    "# ### we get same results using sklearn\n",
    "\n",
    "# [-13179.14499402    257.2547905     -47.24485773    341.47064816\n",
    "#     422.68609701  23777.57144854    429.74130361]"
   ]
  },
  {
   "cell_type": "code",
   "execution_count": 22,
   "metadata": {},
   "outputs": [],
   "source": [
    "def mse(y_test,y_pred):\n",
    "    return np.mean((y_test-y_pred)**2)"
   ]
  },
  {
   "cell_type": "code",
   "execution_count": 23,
   "metadata": {},
   "outputs": [
    {
     "data": {
      "text/plain": [
       "32635482.918829143"
      ]
     },
     "execution_count": 23,
     "metadata": {},
     "output_type": "execute_result"
    }
   ],
   "source": [
    "mse(y_test,y_pred)  ##32635482.918829143"
   ]
  },
  {
   "cell_type": "code",
   "execution_count": 24,
   "metadata": {},
   "outputs": [
    {
     "name": "stderr",
     "output_type": "stream",
     "text": [
      "/Users/sheetaljayaramgowda/opt/anaconda3/lib/python3.9/site-packages/seaborn/_decorators.py:36: FutureWarning: Pass the following variables as keyword args: x, y. From version 0.12, the only valid positional argument will be `data`, and passing other arguments without an explicit keyword will result in an error or misinterpretation.\n",
      "  warnings.warn(\n"
     ]
    },
    {
     "data": {
      "image/png": "[encoded data removed]",
      "text/plain": [
       "<Figure size 504x360 with 1 Axes>"
      ]
     },
     "metadata": {
      "needs_background": "light"
     },
     "output_type": "display_data"
    }
   ],
   "source": [
    "# Plot the predicted values and the actual values \n",
    "# plot linear regression line with polyfit\n",
    "# plot regression line with weights\n",
    "plt.figure(figsize=(7, 5))\n",
    "ax = sns.regplot(y_test, y_pred, color='blue',data='insurance_df')\n",
    "ax.set(xlabel='Actual', ylabel='Predicted')\n",
    "plt.title('Linear Regression',fontsize=15)\n",
    "plt.show()\n",
    "\n"
   ]
  },
  {
   "cell_type": "code",
   "execution_count": 25,
   "metadata": {},
   "outputs": [
    {
     "name": "stderr",
     "output_type": "stream",
     "text": [
      "/Users/sheetaljayaramgowda/opt/anaconda3/lib/python3.9/site-packages/seaborn/_decorators.py:36: FutureWarning: Pass the following variables as keyword args: x, y. From version 0.12, the only valid positional argument will be `data`, and passing other arguments without an explicit keyword will result in an error or misinterpretation.\n",
      "  warnings.warn(\n"
     ]
    },
    {
     "data": {
      "image/png": "[encoded data removed]",
      "text/plain": [
       "<Figure size 504x360 with 1 Axes>"
      ]
     },
     "metadata": {
      "needs_background": "light"
     },
     "output_type": "display_data"
    }
   ],
   "source": [
    "plt.figure(figsize=(7, 5))\n",
    "ax = sns.scatterplot(y_test, y_pred, color='red')\n",
    "ax.set(xlabel='Actual', ylabel='Predicted')\n",
    "plt.title('Predicted values vs  Actual values ',fontsize=15)\n",
    "plt.show()"
   ]
  },
  {
   "cell_type": "markdown",
   "metadata": {},
   "source": [
    "## PART IV : RIDGE REGRESSION - INSURANCE DATA "
   ]
  },
  {
   "cell_type": "code",
   "execution_count": 26,
   "metadata": {},
   "outputs": [],
   "source": [
    "def ridge_regression(X,y,alpha):\n",
    "    intercept_ones = np.ones((len(X),1))        # results is array with ones\n",
    "    X_b = np.c_[intercept_ones,X]               # we now add the additional ones as a new column to our X\n",
    "    I = np.identity(X_b.shape[1])               # we add identity matrix with dimensions (n+1)\n",
    "    I[0][0] = 0                                 # adjusting the first value in I to be 0, to account for the intercept term\n",
    "    w = np.linalg.inv(X_b.T.dot(X_b) + alpha * I).dot(X_b.T).dot(y) # the normal equation\n",
    "    return w"
   ]
  },
  {
   "cell_type": "code",
   "execution_count": 27,
   "metadata": {
    "scrolled": true
   },
   "outputs": [
    {
     "name": "stdout",
     "output_type": "stream",
     "text": [
      "Weights value for Ridge Regression:\n",
      " [-10520.00112062    245.14649428    240.87334807    333.49053028\n",
      "    380.72595927  15165.67991842    245.6883902 ]\n"
     ]
    }
   ],
   "source": [
    "##Taking Alpha=10\n",
    "weights_ridge = ridge_regression(X_train, y_train, 100)\n",
    "print(f'Weights value for Ridge Regression:\\n',weights_ridge)\n",
    "# output: [-10520.00112062    245.14649428    240.87334807    333.49053028\n",
    "##    380.72595927  15165.67991842    245.6883902 ]\n"
   ]
  },
  {
   "cell_type": "code",
   "execution_count": 28,
   "metadata": {},
   "outputs": [
    {
     "name": "stdout",
     "output_type": "stream",
     "text": [
      "Weights for alpha 0\n",
      " [-13220.55779694    257.44633325    -53.45122519    341.59810354\n",
      "    423.2506221   23914.85446346    432.68508141]\n",
      "Weights for alpha 10\n",
      " [-1.28257499e+04  2.55623539e+02  3.73925254e+00  3.40387303e+02\n",
      "  4.17791353e+02  2.26095839e+04  4.04699147e+02]\n",
      "Weights for alpha 20\n",
      " [-12469.77197753    253.9865105      51.42166801    339.30375022\n",
      "    412.70576979  21439.64161147    379.62454935]\n",
      "Weights for alpha 30\n",
      " [-12147.05347321    252.50804266     91.34646795    338.32799126\n",
      "    407.94042822  20384.99899807    357.03456567]\n",
      "Weights for alpha 40\n",
      " [-11853.0499374     251.16601229    124.89216625    337.44429917\n",
      "    403.45208981  19429.39639507    336.5821052 ]\n",
      "Weights for alpha 50\n",
      " [-11584.01590693    249.94224215    153.15532593    336.63982848\n",
      "    399.20539529  18559.49591819    317.98191741]\n",
      "Weights for alpha 60\n",
      " [-11336.83563817    248.82165656    177.01619215    335.90398742\n",
      "    395.17114447  17764.25316291    300.99737598]\n",
      "Weights for alpha 70\n",
      " [-11108.89532138    247.79164548    197.1872308     335.22796722\n",
      "    391.32500653  17034.44437179    285.430519  ]\n",
      "Weights for alpha 80\n",
      " [-10897.98532657    246.84157903    214.24947808    334.60438421\n",
      "    387.64654045  16362.30597676    271.11444531]\n",
      "Weights for alpha 90\n",
      " [-10702.22453376    245.96243263    228.68007553    334.02700458\n",
      "    384.11844209  15741.25653966    257.90744058]\n",
      "Weights for alpha 100\n",
      " [-10520.00112062    245.14649428    240.87334807    333.49053028\n",
      "    380.72595927  15165.67991842    245.6883902 ]\n"
     ]
    }
   ],
   "source": [
    "for i in range(0,110,10):\n",
    "    weights_ridge=ridge_regression(X_train, y_train, i)  \n",
    "    if i%10==0:\n",
    "            print(f'Weights for alpha {i}\\n',weights_ridge)"
   ]
  },
  {
   "cell_type": "code",
   "execution_count": 29,
   "metadata": {},
   "outputs": [],
   "source": [
    "def predict(X, w):\n",
    "    intercept_ones = np.ones((len(X),1))\n",
    "    x_b = np.c_[intercept_ones,X]\n",
    "    y_pred = np.matmul(x_b, w) \n",
    "    return y_pred\n"
   ]
  },
  {
   "cell_type": "code",
   "execution_count": 30,
   "metadata": {},
   "outputs": [],
   "source": [
    "y_pred_ridge = predict(X_test, weights_ridge)\n",
    "##len(y_pred_ridge)"
   ]
  },
  {
   "cell_type": "code",
   "execution_count": 31,
   "metadata": {},
   "outputs": [],
   "source": [
    "##Calculating MSE for Ridge Regression\n",
    "\n",
    "def mse(y, y_pred):\n",
    "    error = y-y_pred_ridge\n",
    "    loss = 1/(y.size) * np.dot(error.T, error)\n",
    "    return loss\n",
    "\n",
    "def ridgeMSE(y, y_pred_ridge, alpha, w):\n",
    "    ##mse = mse(y, y_pred)\n",
    "    ridge_mse = mse(y, y_pred_ridge) + alpha * np.dot(w,w)\n",
    "    return ridge_mse"
   ]
  },
  {
   "cell_type": "code",
   "execution_count": 32,
   "metadata": {},
   "outputs": [],
   "source": [
    "alpha=10\n",
    "ridgeMSE(y_test, y_pred_ridge,alpha, weights_ridge)\n",
    "\n",
    "MSE=3455263980.113051"
   ]
  },
  {
   "cell_type": "code",
   "execution_count": 33,
   "metadata": {},
   "outputs": [
    {
     "name": "stdout",
     "output_type": "stream",
     "text": [
      "Alpha = 0  MSE = 44234792.969965674\n",
      "Alpha = 10  MSE = 3455263980.113051\n",
      "Alpha = 20  MSE = 6866293167.256137\n",
      "Alpha = 30  MSE = 10277322354.399221\n",
      "Alpha = 40  MSE = 13688351541.542307\n",
      "Alpha = 50  MSE = 17099380728.685392\n",
      "Alpha = 60  MSE = 20510409915.82848\n",
      "Alpha = 70  MSE = 23921439102.971565\n",
      "Alpha = 80  MSE = 27332468290.11465\n",
      "Alpha = 90  MSE = 30743497477.257736\n"
     ]
    }
   ],
   "source": [
    "## MSE values for different values of Alpha\n",
    "## We can see for small values of alpha the MSE is close to linear regression,\n",
    "## Higher value of alpha leads to a more restricted model so the coeffients have smaller values and a higher MSE\n",
    "\n",
    "for i in range(0,100,10):\n",
    "    Loss=ridgeMSE(y_test, y_pred,i, weights_ridge)   \n",
    "    if i%10==0:\n",
    "            print(f'Alpha = {i}  MSE =',(Loss))\n"
   ]
  },
  {
   "cell_type": "code",
   "execution_count": 34,
   "metadata": {},
   "outputs": [
    {
     "name": "stderr",
     "output_type": "stream",
     "text": [
      "/Users/sheetaljayaramgowda/opt/anaconda3/lib/python3.9/site-packages/seaborn/_decorators.py:36: FutureWarning: Pass the following variables as keyword args: x, y. From version 0.12, the only valid positional argument will be `data`, and passing other arguments without an explicit keyword will result in an error or misinterpretation.\n",
      "  warnings.warn(\n"
     ]
    },
    {
     "data": {
      "image/png": "[encoded data removed]",
      "text/plain": [
       "<Figure size 720x504 with 1 Axes>"
      ]
     },
     "metadata": {
      "needs_background": "light"
     },
     "output_type": "display_data"
    }
   ],
   "source": [
    "plt.figure(figsize=(10, 7))\n",
    "plt.title('Ridge Regression for alpha=10',fontsize=15)\n",
    "ax=sns.regplot(y_test, y_pred_ridge, color='red')\n",
    "plt.xlabel('y_test',fontsize=14)\n",
    "plt.ylabel('y_pred_ridge',fontsize=14)\n",
    "plt.show()"
   ]
  },
  {
   "cell_type": "code",
   "execution_count": 35,
   "metadata": {},
   "outputs": [
    {
     "name": "stderr",
     "output_type": "stream",
     "text": [
      "/Users/sheetaljayaramgowda/opt/anaconda3/lib/python3.9/site-packages/seaborn/_decorators.py:36: FutureWarning: Pass the following variables as keyword args: x, y. From version 0.12, the only valid positional argument will be `data`, and passing other arguments without an explicit keyword will result in an error or misinterpretation.\n",
      "  warnings.warn(\n",
      "/Users/sheetaljayaramgowda/opt/anaconda3/lib/python3.9/site-packages/seaborn/_decorators.py:36: FutureWarning: Pass the following variables as keyword args: x, y. From version 0.12, the only valid positional argument will be `data`, and passing other arguments without an explicit keyword will result in an error or misinterpretation.\n",
      "  warnings.warn(\n"
     ]
    },
    {
     "data": {
      "image/png": "[encoded data removed]",
      "text/plain": [
       "<Figure size 720x504 with 1 Axes>"
      ]
     },
     "metadata": {
      "needs_background": "light"
     },
     "output_type": "display_data"
    }
   ],
   "source": [
    "plt.figure(figsize=(10, 7))\n",
    "plt.title('Ridge(Alpha=10) and Linear Regression',fontsize=15)\n",
    "ax=sns.regplot(y_test, y_pred_ridge, color='red')\n",
    "ax= sns.regplot(y_test, y_pred, color='black')\n",
    "plt.xlabel('y_test',fontsize=14)\n",
    "plt.ylabel('y_pred_ridge',fontsize=14)\n",
    "plt.show()"
   ]
  },
  {
   "cell_type": "markdown",
   "metadata": {},
   "source": [
    "## Gradient Descent"
   ]
  },
  {
   "cell_type": "code",
   "execution_count": 36,
   "metadata": {},
   "outputs": [
    {
     "data": {
      "text/plain": [
       "(1070, 7)"
      ]
     },
     "execution_count": 36,
     "metadata": {},
     "output_type": "execute_result"
    }
   ],
   "source": [
    "intercept_ones = np.ones((len(X_train),1)) # results in array of 1s\n",
    "x_b = np.c_[intercept_ones,X_train] \n",
    "x_b.shape ##(1070, 7)"
   ]
  },
  {
   "cell_type": "code",
   "execution_count": 37,
   "metadata": {},
   "outputs": [
    {
     "name": "stdout",
     "output_type": "stream",
     "text": [
      "[-10520.00112062    245.14649428    240.87334807    333.49053028\n",
      "    380.72595927  15165.67991842    245.6883902 ]\n"
     ]
    }
   ],
   "source": [
    "w = ridge_regression(X_train, y_train, 100)\n",
    "print(w)"
   ]
  },
  {
   "cell_type": "code",
   "execution_count": 38,
   "metadata": {},
   "outputs": [],
   "source": [
    "def create_function(w):\n",
    "    def f(x_b):\n",
    "        return np.dot(x_b,w)\n",
    "    return f\n"
   ]
  },
  {
   "cell_type": "code",
   "execution_count": 39,
   "metadata": {},
   "outputs": [
    {
     "name": "stdout",
     "output_type": "stream",
     "text": [
      "992     -3164.340659\n",
      "937      -794.419469\n",
      "688     16571.159730\n",
      "1185    -1258.506662\n",
      "1137     -828.079689\n",
      "            ...     \n",
      "1027    19257.800249\n",
      "732     -2554.518971\n",
      "1071    -2168.632322\n",
      "801     -2851.182587\n",
      "995      -449.783657\n",
      "Name: charges, Length: 1070, dtype: float64\n"
     ]
    }
   ],
   "source": [
    "f = create_function(w)\n",
    "y_pred = f(x_b)\n",
    "diff=y_train-y_pred\n",
    "print(diff)"
   ]
  },
  {
   "cell_type": "code",
   "execution_count": 40,
   "metadata": {},
   "outputs": [
    {
     "data": {
      "text/plain": [
       "-3104.9728300005945"
      ]
     },
     "execution_count": 40,
     "metadata": {},
     "output_type": "execute_result"
    }
   ],
   "source": [
    "X_train.T.dot(diff).sum() * -(2/y_train.size)"
   ]
  },
  {
   "cell_type": "code",
   "execution_count": 41,
   "metadata": {},
   "outputs": [],
   "source": [
    "def mse(y, y_pred):\n",
    "    error = y-y_pred_ridge\n",
    "    loss = 1/(y.size) * np.dot(error.T, error)\n",
    "    return loss\n",
    "\n",
    "def ridgeMSE(y, y_pred_ridge, alpha, w):\n",
    "    ridge_mse = mse(y, y_pred_ridge) + alpha * np.dot(w,w)\n",
    "    return ridge_mse\n"
   ]
  },
  {
   "cell_type": "code",
   "execution_count": 42,
   "metadata": {},
   "outputs": [],
   "source": [
    "loss = ridgeMSE(y_test, y_pred,100, weights_ridge)\n",
    "loss=34154526664.40082"
   ]
  },
  {
   "cell_type": "code",
   "execution_count": 43,
   "metadata": {},
   "outputs": [],
   "source": [
    "def mse_derivative_m(X_train,y_train,y_pred):\n",
    "    diff=y_train-y_pred\n",
    "    return X_train.T.dot(diff) * -(2/y_train.size)\n",
    "    \n",
    "def mse_derivative_b(y_train,y_pred):\n",
    "    diff=y_train-y_pred\n",
    "    return -(2/y_train.size) * sum(diff)\n"
   ]
  },
  {
   "cell_type": "code",
   "execution_count": 44,
   "metadata": {},
   "outputs": [
    {
     "data": {
      "text/plain": [
       "age          -45.821775\n",
       "sex          -45.023056\n",
       "bmi          -62.334679\n",
       "children     -71.163731\n",
       "smoker     -2834.706527\n",
       "region       -45.923064\n",
       "dtype: float64"
      ]
     },
     "execution_count": 44,
     "metadata": {},
     "output_type": "execute_result"
    }
   ],
   "source": [
    "mse_derivative_m(X_train,y_train,y_pred)"
   ]
  },
  {
   "cell_type": "code",
   "execution_count": 45,
   "metadata": {},
   "outputs": [
    {
     "data": {
      "text/plain": [
       "3.687108520888419e-11"
      ]
     },
     "execution_count": 45,
     "metadata": {},
     "output_type": "execute_result"
    }
   ],
   "source": [
    "mse_derivative_b(y_train,y_pred)"
   ]
  },
  {
   "cell_type": "code",
   "execution_count": 46,
   "metadata": {},
   "outputs": [
    {
     "name": "stderr",
     "output_type": "stream",
     "text": [
      "/var/folders/2l/lwcdtm192tl0vsj2nj9kl1780000gn/T/ipykernel_91892/34244867.py:1: VisibleDeprecationWarning: Creating an ndarray from ragged nested sequences (which is a list-or-tuple of lists-or-tuples-or ndarrays with different lengths or shapes) is deprecated. If you meant to do this, you must specify 'dtype=object' when creating the ndarray.\n",
      "  gradient = np.array([mse_derivative_m(X_train,y_train,y_pred), mse_derivative_b(y_train,y_pred)])\n"
     ]
    },
    {
     "data": {
      "text/plain": [
       "array([age          -45.821775\n",
       "       sex          -45.023056\n",
       "       bmi          -62.334679\n",
       "       children     -71.163731\n",
       "       smoker     -2834.706527\n",
       "       region       -45.923064\n",
       "       dtype: float64         , 3.687108520888419e-11], dtype=object)"
      ]
     },
     "execution_count": 46,
     "metadata": {},
     "output_type": "execute_result"
    }
   ],
   "source": [
    "gradient = np.array([mse_derivative_m(X_train,y_train,y_pred), mse_derivative_b(y_train,y_pred)])\n",
    "gradient"
   ]
  },
  {
   "cell_type": "code",
   "execution_count": 47,
   "metadata": {},
   "outputs": [
    {
     "ename": "ValueError",
     "evalue": "operands could not be broadcast together with shapes (7,) (2,) ",
     "output_type": "error",
     "traceback": [
      "\u001b[0;31m---------------------------------------------------------------------------\u001b[0m",
      "\u001b[0;31mValueError\u001b[0m                                Traceback (most recent call last)",
      "\u001b[0;32m/var/folders/2l/lwcdtm192tl0vsj2nj9kl1780000gn/T/ipykernel_91892/3004267819.py\u001b[0m in \u001b[0;36m<module>\u001b[0;34m\u001b[0m\n\u001b[0;32m----> 1\u001b[0;31m \u001b[0mw\u001b[0m\u001b[0;34m=\u001b[0m\u001b[0mw\u001b[0m\u001b[0;34m-\u001b[0m\u001b[0;36m0.001\u001b[0m \u001b[0;34m*\u001b[0m \u001b[0mgradient\u001b[0m\u001b[0;34m\u001b[0m\u001b[0;34m\u001b[0m\u001b[0m\n\u001b[0m\u001b[1;32m      2\u001b[0m \u001b[0mprint\u001b[0m\u001b[0;34m(\u001b[0m\u001b[0mw\u001b[0m\u001b[0;34m)\u001b[0m\u001b[0;34m\u001b[0m\u001b[0;34m\u001b[0m\u001b[0m\n",
      "\u001b[0;31mValueError\u001b[0m: operands could not be broadcast together with shapes (7,) (2,) "
     ]
    }
   ],
   "source": [
    "w=w-0.001 * gradient \n",
    "print(w)"
   ]
  },
  {
   "cell_type": "code",
   "execution_count": null,
   "metadata": {},
   "outputs": [],
   "source": [
    "##combing above steps into a function"
   ]
  },
  {
   "cell_type": "code",
   "execution_count": null,
   "metadata": {},
   "outputs": [],
   "source": [
    "def gradient_descent(X_train, y_train, w, number_of_iterations, learning_rate):\n",
    "    \n",
    "    intercept_ones = np.ones((len(X_train),1)) # results in array of 1s\n",
    "    x_b = np.c_[intercept_ones,X_train] \n",
    "    \n",
    "    loss_history=[]\n",
    "    \n",
    "   \n",
    "\n",
    "    for i in range(number_of_iterations):\n",
    "        \n",
    "        # predict and calculate loss\n",
    "        f = np.dot(x_b,w) # create the current function\n",
    "        y_pred = f(x_b) # predict our entire x\n",
    "        \n",
    "        def mse_derivative_m(X_train,y_train,y_pred):\n",
    "            diff=y_train-y_pred\n",
    "            return X_train.T.dot(diff) * -(2/y_train.size)\n",
    "    \n",
    "        def mse_derivative_b(y_train,y_pred):\n",
    "            diff=y_train-y_pred\n",
    "            return -(2/y_train.size) * sum(diff)\n",
    "        \n",
    "        loss = ridgeMSE(y_test, y_pred,100, weights_ridge)\n",
    "        \n",
    "        loss_history.append(loss)\n",
    "            \n",
    "        # perform optimization\n",
    "        def mse_derivative_m(X_train,y_train,y_pred):\n",
    "            diff=y_train-y_pred\n",
    "            return X_train.T.dot(diff) * -(2/y_train.size)\n",
    "    \n",
    "        def mse_derivative_b(y_train,y_pred):\n",
    "            diff=y_train-y_pred\n",
    "            return -(2/y_train.size) * sum(diff)\n",
    "        \n",
    "        gradient = np.array([mse_derivative_m(X_train,y_train,y_pred), mse_derivative_b(y_train,y_pred)]) # calculate gradient\n",
    "        w = w - learning_rate * gradient \n",
    "        \n",
    "        if i%10==0:\n",
    "            print(\"Current iteration : {}, Current Loss: {}\".format(i,loss))\n",
    "        \n",
    "    return w,loss_history\n"
   ]
  },
  {
   "cell_type": "code",
   "execution_count": null,
   "metadata": {},
   "outputs": [],
   "source": [
    "###gradient_descent(X_train, y_train, w, 100, 0.001)"
   ]
  },
  {
   "cell_type": "code",
   "execution_count": null,
   "metadata": {},
   "outputs": [],
   "source": []
  }
 ],
 "metadata": {
  "interpreter": {
   "hash": "bd5761ba84f334f11e69f223a999fe223dd76959b0670a3a57fcdca31807a907"
  },
  "kernelspec": {
   "display_name": "Python 3 (ipykernel)",
   "language": "python",
   "name": "python3"
  },
  "language_info": {
   "codemirror_mode": {
    "name": "ipython",
    "version": 3
   },
   "file_extension": ".py",
   "mimetype": "text/x-python",
   "name": "python",
   "nbconvert_exporter": "python",
   "pygments_lexer": "ipython3",
   "version": "3.9.7"
  }
 },
 "nbformat": 4,
 "nbformat_minor": 2
}
